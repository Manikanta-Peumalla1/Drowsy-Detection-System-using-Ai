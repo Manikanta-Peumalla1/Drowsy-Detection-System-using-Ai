{
 "cells": [
  {
   "cell_type": "code",
   "execution_count": 1,
   "id": "4a01113e",
   "metadata": {},
   "outputs": [],
   "source": [
    "from tensorflow.keras.applications import EfficientNetB0\n",
    "from tensorflow.keras.preprocessing.image import ImageDataGenerator\n",
    "from tensorflow.keras.models import Sequential\n",
    "from tensorflow.keras.layers import Dense, Flatten\n",
    "from tensorflow.keras.optimizers import Adam\n",
    "\n"
   ]
  },
  {
   "cell_type": "code",
   "execution_count": 2,
   "id": "af78b0dd",
   "metadata": {},
   "outputs": [
    {
     "name": "stdout",
     "output_type": "stream",
     "text": [
      "Found 7006 images belonging to 2 classes.\n",
      "Found 1999 images belonging to 2 classes.\n",
      "Found 1001 images belonging to 2 classes.\n"
     ]
    }
   ],
   "source": [
    "# Data Preprocessing\n",
    "train_datagen = ImageDataGenerator(rescale=1.0/255, shear_range=0.2, zoom_range=0.2, horizontal_flip=True)\n",
    "validation_datagen = ImageDataGenerator(rescale=1.0/255)\n",
    "testing_datagen=ImageDataGenerator(rescale=1.0/255)\n",
    "\n",
    "train_generator = train_datagen.flow_from_directory('D:/360DigitMG/Ptoject-2/data/drowsy.v1i.folder/train', target_size=(224, 224), batch_size=32, class_mode='binary')\n",
    "validation_generator = validation_datagen.flow_from_directory('D:/360DigitMG/Ptoject-2/data/drowsy.v1i.folder/valid', target_size=(224, 224), batch_size=32, class_mode='binary')\n",
    "test_generator=testing_datagen.flow_from_directory(\"D:/360DigitMG/Ptoject-2/data/drowsy.v1i.folder/test\",target_size=(299, 299), batch_size=32, class_mode='binary')\n"
   ]
  },
  {
   "cell_type": "code",
   "execution_count": 10,
   "id": "2402ac30",
   "metadata": {},
   "outputs": [],
   "source": [
    "# Model Definition\n",
    "efficientnet_base = EfficientNetB0(weights='imagenet', include_top=False, input_shape=(224, 224, 3))\n",
    "model = Sequential([\n",
    "    efficientnet_base,\n",
    "    Flatten(),\n",
    "    Dense(256, activation='relu'),\n",
    "    Dense(1, activation='sigmoid')\n",
    "])\n",
    "\n"
   ]
  },
  {
   "cell_type": "code",
   "execution_count": 11,
   "id": "1abf21d2",
   "metadata": {},
   "outputs": [],
   "source": [
    "# Compile the Model\n",
    "model.compile(optimizer=Adam(learning_rate=0.0001), loss='binary_crossentropy', metrics=['accuracy'])\n",
    "\n"
   ]
  },
  {
   "cell_type": "code",
   "execution_count": 12,
   "id": "b7df52c9",
   "metadata": {},
   "outputs": [
    {
     "name": "stdout",
     "output_type": "stream",
     "text": [
      "Epoch 1/5\n",
      "219/219 [==============================] - 2022s 9s/step - loss: 0.0895 - accuracy: 0.9660 - val_loss: 1.3019 - val_accuracy: 0.4887\n",
      "Epoch 2/5\n",
      "219/219 [==============================] - 1919s 9s/step - loss: 0.0147 - accuracy: 0.9944 - val_loss: 0.9350 - val_accuracy: 0.5528\n",
      "Epoch 3/5\n",
      "219/219 [==============================] - 41864s 192s/step - loss: 0.0082 - accuracy: 0.9980 - val_loss: 11.0192 - val_accuracy: 0.5113\n",
      "Epoch 4/5\n",
      "219/219 [==============================] - 3223s 15s/step - loss: 0.0119 - accuracy: 0.9959 - val_loss: 612.6787 - val_accuracy: 0.5143\n",
      "Epoch 5/5\n",
      "219/219 [==============================] - 1913s 9s/step - loss: 0.0070 - accuracy: 0.9974 - val_loss: 8.9656 - val_accuracy: 0.4752\n"
     ]
    }
   ],
   "source": [
    "# Train the Model\n",
    "history = model.fit(train_generator, epochs=5, validation_data=validation_generator)\n",
    "\n"
   ]
  },
  {
   "cell_type": "code",
   "execution_count": 13,
   "id": "24943484",
   "metadata": {},
   "outputs": [
    {
     "name": "stderr",
     "output_type": "stream",
     "text": [
      "C:\\Users\\MK PERUMALLA\\anaconda3\\lib\\site-packages\\keras\\src\\engine\\training.py:3000: UserWarning: You are saving your model as an HDF5 file via `model.save()`. This file format is considered legacy. We recommend using instead the native Keras format, e.g. `model.save('my_model.keras')`.\n",
      "  saving_api.save_model(\n"
     ]
    }
   ],
   "source": [
    "# Save the Model\n",
    "model.save('efficientnet_drowsiness_model.h5')\n"
   ]
  },
  {
   "cell_type": "code",
   "execution_count": 3,
   "id": "4d4e5271",
   "metadata": {},
   "outputs": [
    {
     "name": "stdout",
     "output_type": "stream",
     "text": [
      "63/63 [==============================] - 126s 2s/step - loss: 8.9656 - accuracy: 0.4752\n",
      "Validation accuracy: 47.52%\n"
     ]
    }
   ],
   "source": [
    "from tensorflow.keras.models import load_model\n",
    "\n",
    "# Load the model\n",
    "loaded_model = load_model('efficientnet_drowsiness_model.h5')\n",
    "\n",
    "# Verify that the model has been loaded correctly\n",
    "loss, accuracy = loaded_model.evaluate(validation_generator)\n",
    "print(f'Validation accuracy: {accuracy*100:.2f}%')\n"
   ]
  },
  {
   "cell_type": "code",
   "execution_count": null,
   "id": "241c9120",
   "metadata": {},
   "outputs": [],
   "source": []
  }
 ],
 "metadata": {
  "kernelspec": {
   "display_name": "Python 3 (ipykernel)",
   "language": "python",
   "name": "python3"
  },
  "language_info": {
   "codemirror_mode": {
    "name": "ipython",
    "version": 3
   },
   "file_extension": ".py",
   "mimetype": "text/x-python",
   "name": "python",
   "nbconvert_exporter": "python",
   "pygments_lexer": "ipython3",
   "version": "3.10.9"
  }
 },
 "nbformat": 4,
 "nbformat_minor": 5
}

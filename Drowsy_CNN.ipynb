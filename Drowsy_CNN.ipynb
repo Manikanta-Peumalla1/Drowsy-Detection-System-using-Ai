{
 "cells": [
  {
   "cell_type": "code",
   "execution_count": 1,
   "id": "bc4b5666",
   "metadata": {},
   "outputs": [],
   "source": [
    "\n",
    "import tensorflow as tf\n",
    "from tensorflow.keras.preprocessing.image import ImageDataGenerator\n",
    "from tensorflow.keras.models import Sequential\n",
    "from tensorflow.keras.layers import Conv2D, MaxPooling2D, Flatten, Dense, Dropout\n",
    "from tensorflow.keras.optimizers import Adam\n",
    "\n"
   ]
  },
  {
   "cell_type": "code",
   "execution_count": 4,
   "id": "9fe90fd3",
   "metadata": {},
   "outputs": [],
   "source": [
    "# Step 1: Data Preparation\n",
    "train_dir = \"D:/360DigitMG/Ptoject-2/data/drowsy.v1i.folder/train\"\n",
    "validation_dir = \"D:/360DigitMG/Ptoject-2/data/drowsy.v1i.folder/valid\""
   ]
  },
  {
   "cell_type": "code",
   "execution_count": 5,
   "id": "b74dc3b2",
   "metadata": {},
   "outputs": [
    {
     "name": "stdout",
     "output_type": "stream",
     "text": [
      "Found 7006 images belonging to 2 classes.\n",
      "Found 1999 images belonging to 2 classes.\n"
     ]
    }
   ],
   "source": [
    "# Step 2: Data Preprocessing\n",
    "train_datagen = ImageDataGenerator(\n",
    "    rescale=1.0/255,\n",
    "    shear_range=0.2,\n",
    "    zoom_range=0.2,\n",
    "    horizontal_flip=True\n",
    ")\n",
    "\n",
    "\n",
    "validation_datagen = ImageDataGenerator(rescale=1.0/255)\n",
    "\n",
    "train_generator = train_datagen.flow_from_directory(\n",
    "    train_dir,\n",
    "    target_size=(150, 150),\n",
    "    batch_size=32,\n",
    "    class_mode='binary'\n",
    ")\n",
    "\n",
    "validation_generator = validation_datagen.flow_from_directory(\n",
    "    validation_dir,\n",
    "    target_size=(150, 150),\n",
    "    batch_size=32,\n",
    "    class_mode='binary'\n",
    ")\n"
   ]
  },
  {
   "cell_type": "code",
   "execution_count": 6,
   "id": "783b6f68",
   "metadata": {},
   "outputs": [],
   "source": [
    "# Step 3: Build the Model\n",
    "model = Sequential([\n",
    "    Conv2D(32, (3, 3), activation='relu', input_shape=(150, 150, 3)),\n",
    "    MaxPooling2D(pool_size=(2, 2)),\n",
    "    Conv2D(64, (3, 3), activation='relu'),\n",
    "    MaxPooling2D(pool_size=(2, 2)),\n",
    "    Conv2D(128, (3, 3), activation='relu'),\n",
    "    MaxPooling2D(pool_size=(2, 2)),\n",
    "    Flatten(),\n",
    "    Dense(512, activation='relu'),\n",
    "    Dropout(0.5),\n",
    "    Dense(1, activation='sigmoid')\n",
    "])"
   ]
  },
  {
   "cell_type": "code",
   "execution_count": 7,
   "id": "304be53e",
   "metadata": {},
   "outputs": [],
   "source": [
    "\n",
    "# Step 4: Compile the Model\n",
    "model.compile(optimizer=Adam(learning_rate=0.001),\n",
    "              loss='binary_crossentropy',\n",
    "              metrics=['accuracy'])"
   ]
  },
  {
   "cell_type": "code",
   "execution_count": 8,
   "id": "df63f2d5",
   "metadata": {},
   "outputs": [
    {
     "name": "stdout",
     "output_type": "stream",
     "text": [
      "Epoch 1/10\n",
      "100/100 [==============================] - 189s 2s/step - loss: 0.5700 - accuracy: 0.6988 - val_loss: 0.3016 - val_accuracy: 0.8906\n",
      "Epoch 2/10\n",
      "100/100 [==============================] - 155s 2s/step - loss: 0.2726 - accuracy: 0.8850 - val_loss: 0.2767 - val_accuracy: 0.9025\n",
      "Epoch 3/10\n",
      "100/100 [==============================] - 140s 1s/step - loss: 0.1797 - accuracy: 0.9322 - val_loss: 0.1259 - val_accuracy: 0.9544\n",
      "Epoch 4/10\n",
      "100/100 [==============================] - 133s 1s/step - loss: 0.1284 - accuracy: 0.9544 - val_loss: 0.0852 - val_accuracy: 0.9744\n",
      "Epoch 5/10\n",
      "100/100 [==============================] - 135s 1s/step - loss: 0.0604 - accuracy: 0.9822 - val_loss: 0.0176 - val_accuracy: 0.9937\n",
      "Epoch 6/10\n",
      "100/100 [==============================] - 129s 1s/step - loss: 0.0574 - accuracy: 0.9803 - val_loss: 0.0260 - val_accuracy: 0.9906\n",
      "Epoch 7/10\n",
      "100/100 [==============================] - 128s 1s/step - loss: 0.0496 - accuracy: 0.9850 - val_loss: 0.0524 - val_accuracy: 0.9837\n",
      "Epoch 8/10\n",
      "100/100 [==============================] - 126s 1s/step - loss: 0.0543 - accuracy: 0.9822 - val_loss: 0.0136 - val_accuracy: 0.9956\n",
      "Epoch 9/10\n",
      "100/100 [==============================] - 127s 1s/step - loss: 0.0281 - accuracy: 0.9925 - val_loss: 0.0044 - val_accuracy: 0.9987\n",
      "Epoch 10/10\n",
      "100/100 [==============================] - 125s 1s/step - loss: 0.0215 - accuracy: 0.9931 - val_loss: 0.0096 - val_accuracy: 0.9962\n"
     ]
    }
   ],
   "source": [
    "\n",
    "\n",
    "\n",
    "# Step 5: Train the Model\n",
    "history = model.fit(\n",
    "    train_generator,\n",
    "    steps_per_epoch=100,  # Adjust based on your dataset size\n",
    "    epochs=10,\n",
    "    validation_data=validation_generator,\n",
    "    validation_steps=50   # Adjust based on your dataset size\n",
    ")\n",
    "\n"
   ]
  },
  {
   "cell_type": "code",
   "execution_count": 9,
   "id": "b8192076",
   "metadata": {},
   "outputs": [
    {
     "name": "stdout",
     "output_type": "stream",
     "text": [
      "63/63 [==============================] - 15s 228ms/step - loss: 0.0104 - accuracy: 0.9955\n",
      "Validation accuracy: 99.55%\n"
     ]
    },
    {
     "name": "stderr",
     "output_type": "stream",
     "text": [
      "C:\\Users\\MK PERUMALLA\\anaconda3\\lib\\site-packages\\keras\\src\\engine\\training.py:3000: UserWarning: You are saving your model as an HDF5 file via `model.save()`. This file format is considered legacy. We recommend using instead the native Keras format, e.g. `model.save('my_model.keras')`.\n",
      "  saving_api.save_model(\n"
     ]
    }
   ],
   "source": [
    "# Step 6: Evaluate the Model\n",
    "loss, accuracy = model.evaluate(validation_generator)\n",
    "print(f'Validation accuracy: {accuracy*100:.2f}%')\n",
    "\n",
    "# Optionally, you can save the model\n",
    "model.save('drowsiness_detection_model.h5')\n"
   ]
  },
  {
   "cell_type": "code",
   "execution_count": 10,
   "id": "bbd7186a",
   "metadata": {},
   "outputs": [
    {
     "name": "stdout",
     "output_type": "stream",
     "text": [
      "63/63 [==============================] - 15s 226ms/step - loss: 0.0104 - accuracy: 0.9955\n",
      "Validation accuracy: 99.55%\n"
     ]
    }
   ],
   "source": [
    "from tensorflow.keras.models import load_model\n",
    "\n",
    "# Load the model\n",
    "loaded_model = load_model('drowsiness_detection_model.h5')\n",
    "\n",
    "# Verify that the model has been loaded correctly\n",
    "loss, accuracy = loaded_model.evaluate(validation_generator)\n",
    "print(f'Validation accuracy: {accuracy*100:.2f}%')\n"
   ]
  },
  {
   "cell_type": "code",
   "execution_count": null,
   "id": "a6157a70",
   "metadata": {},
   "outputs": [],
   "source": [
    "import numpy as np\n",
    "from tensorflow.keras.models import load_model\n",
    "from tensorflow.keras.preprocessing.image import load_img, img_to_array\n",
    "\n",
    "# Load the model\n",
    "model = load_model('drowsiness_detection_model.h5')"
   ]
  },
  {
   "cell_type": "code",
   "execution_count": 20,
   "id": "578563d2",
   "metadata": {},
   "outputs": [
    {
     "name": "stdout",
     "output_type": "stream",
     "text": [
      "1/1 [==============================] - 0s 312ms/step\n",
      "The predicted class for the image is: drowsy\n"
     ]
    }
   ],
   "source": [
    "\n",
    "\n",
    "def preprocess_image(image_path):\n",
    "    # Load the image\n",
    "    img = load_img(image_path, target_size=(150, 150))  # Resize to match the input size expected by the model\n",
    "    # Convert the image to array\n",
    "    img_array = img_to_array(img)\n",
    "    # Expand dimensions to match the input shape (1, 150, 150, 3)\n",
    "    img_array = np.expand_dims(img_array, axis=0)\n",
    "    # Rescale the image (same as during training)\n",
    "    img_array =  img_array / 255.0\n",
    "    return img_array\n",
    "\n",
    "def predict_image(image_path):\n",
    "    # Preprocess the image\n",
    "    img_array = preprocess_image(image_path)\n",
    "    # Make prediction\n",
    "    prediction = model.predict(img_array)\n",
    "    # The output is a probability, convert it to class label\n",
    "    if prediction[0] > 0.5:\n",
    "        return 'non-drowsy'\n",
    "    else:\n",
    "        return 'drowsy'\n",
    "\n",
    "# Example usage\n",
    "image_path = \"D:\\MY PICS\\WhatsApp Image 2023-12-20 at 22.22.46_172bc2cb.jpg\"\n",
    "result = predict_image(image_path)\n",
    "print(f'The predicted class for the image is: {result}')\n"
   ]
  },
  {
   "cell_type": "code",
   "execution_count": null,
   "id": "49bcaffe",
   "metadata": {},
   "outputs": [],
   "source": []
  }
 ],
 "metadata": {
  "kernelspec": {
   "display_name": "Python 3 (ipykernel)",
   "language": "python",
   "name": "python3"
  },
  "language_info": {
   "codemirror_mode": {
    "name": "ipython",
    "version": 3
   },
   "file_extension": ".py",
   "mimetype": "text/x-python",
   "name": "python",
   "nbconvert_exporter": "python",
   "pygments_lexer": "ipython3",
   "version": "3.10.9"
  }
 },
 "nbformat": 4,
 "nbformat_minor": 5
}

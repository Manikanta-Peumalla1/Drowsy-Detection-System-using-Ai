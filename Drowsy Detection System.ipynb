{
 "cells": [
  {
   "cell_type": "code",
   "execution_count": 18,
   "id": "7037918b",
   "metadata": {},
   "outputs": [],
   "source": [
    "from tensorflow.keras.preprocessing.image import ImageDataGenerator\n",
    "from tensorflow.keras.models import load_model\n",
    "import pandas as pd"
   ]
  },
  {
   "cell_type": "code",
   "execution_count": 3,
   "id": "e527f389",
   "metadata": {},
   "outputs": [],
   "source": [
    "def data_gen(i):\n",
    "    \n",
    "    # Data Preprocessing\n",
    "    train_datagen = ImageDataGenerator(rescale=1.0/255, shear_range=0.2, zoom_range=0.2, horizontal_flip=True)\n",
    "    validation_datagen = ImageDataGenerator(rescale=1.0/255)\n",
    "    testing_datagen=ImageDataGenerator(rescale=1.0/255)\n",
    "\n",
    "    train_generator = train_datagen.flow_from_directory('D:/360DigitMG/Ptoject-2/data/drowsy.v1i.folder/train', target_size=(i, i), batch_size=32, class_mode='binary')\n",
    "    validation_generator = validation_datagen.flow_from_directory('D:/360DigitMG/Ptoject-2/data/drowsy.v1i.folder/valid', target_size=(i, i), batch_size=32, class_mode='binary')\n",
    "    test_generator=testing_datagen.flow_from_directory(\"D:/360DigitMG/Ptoject-2/data/drowsy.v1i.folder/test\",target_size=(i, i), batch_size=32, class_mode='binary')\n",
    "    gens=locals()\n",
    "    return gens"
   ]
  },
  {
   "cell_type": "code",
   "execution_count": null,
   "id": "3a43a5f5",
   "metadata": {},
   "outputs": [],
   "source": []
  },
  {
   "cell_type": "markdown",
   "id": "9f446593",
   "metadata": {},
   "source": [
    "### 1. CNN Model"
   ]
  },
  {
   "cell_type": "code",
   "execution_count": 15,
   "id": "5cc7661b",
   "metadata": {},
   "outputs": [],
   "source": [
    "cnn_model=load_model('drowsiness_detection_model.h5')"
   ]
  },
  {
   "cell_type": "code",
   "execution_count": 16,
   "id": "a0bc5612",
   "metadata": {},
   "outputs": [
    {
     "name": "stdout",
     "output_type": "stream",
     "text": [
      "Found 7006 images belonging to 2 classes.\n",
      "Found 1999 images belonging to 2 classes.\n",
      "Found 1001 images belonging to 2 classes.\n",
      "63/63 [==============================] - 15s 236ms/step - loss: 0.0104 - accuracy: 0.9955\n",
      "Validation accuracy: 99.55%\n"
     ]
    }
   ],
   "source": [
    "# Verify that the model has been loaded correctly\n",
    "loss_cnn, accuracy_cnn = cnn_model.evaluate(data_gen(cnn_model.input_shape[1])['validation_generator'])\n",
    "print(f'Validation accuracy: {accuracy_cnn*100:.2f}%')\n"
   ]
  },
  {
   "cell_type": "markdown",
   "id": "4470e52d",
   "metadata": {},
   "source": [
    "### 2. ResNet50"
   ]
  },
  {
   "cell_type": "code",
   "execution_count": 4,
   "id": "1dc29d58",
   "metadata": {},
   "outputs": [],
   "source": [
    "res_model=load_model('resnet_drowsiness_model.h5')"
   ]
  },
  {
   "cell_type": "code",
   "execution_count": 6,
   "id": "28b818a4",
   "metadata": {},
   "outputs": [
    {
     "name": "stdout",
     "output_type": "stream",
     "text": [
      "Found 7006 images belonging to 2 classes.\n",
      "Found 1999 images belonging to 2 classes.\n",
      "Found 1001 images belonging to 2 classes.\n",
      "63/63 [==============================] - 200s 3s/step - loss: 0.1211 - accuracy: 0.9630\n",
      "Validation accuracy: 96.30%\n"
     ]
    }
   ],
   "source": [
    "# Verify that the model has been loaded correctly\n",
    "loss_res, accuracy_res = res_model.evaluate(data_gen(res_model.input_shape[1])['validation_generator'])\n",
    "print(f'Validation accuracy: {accuracy_res*100:.2f}%')\n"
   ]
  },
  {
   "cell_type": "markdown",
   "id": "82011fce",
   "metadata": {},
   "source": [
    "### 3. InceptionNet"
   ]
  },
  {
   "cell_type": "code",
   "execution_count": 7,
   "id": "aed91c54",
   "metadata": {},
   "outputs": [],
   "source": [
    "in_model=load_model('inception_drowsiness_model.h5')"
   ]
  },
  {
   "cell_type": "code",
   "execution_count": 8,
   "id": "5be53df1",
   "metadata": {},
   "outputs": [
    {
     "name": "stdout",
     "output_type": "stream",
     "text": [
      "Found 7006 images belonging to 2 classes.\n",
      "Found 1999 images belonging to 2 classes.\n",
      "Found 1001 images belonging to 2 classes.\n",
      "63/63 [==============================] - 218s 3s/step - loss: 9.3127e-04 - accuracy: 0.9995\n",
      "Validation accuracy: 99.95%\n"
     ]
    }
   ],
   "source": [
    "# Verify that the model has been loaded correctly\n",
    "loss_in, accuracy_in = in_model.evaluate(data_gen(in_model.input_shape[1])['validation_generator'])\n",
    "print(f'Validation accuracy: {accuracy_in*100:.2f}%')\n"
   ]
  },
  {
   "cell_type": "markdown",
   "id": "a88f41f9",
   "metadata": {},
   "source": [
    "### 4.EfficientNet"
   ]
  },
  {
   "cell_type": "code",
   "execution_count": 11,
   "id": "6f8f481e",
   "metadata": {},
   "outputs": [],
   "source": [
    "ef_model=load_model('efficientnet_drowsiness_model.h5')\n"
   ]
  },
  {
   "cell_type": "code",
   "execution_count": 13,
   "id": "af695a4c",
   "metadata": {},
   "outputs": [
    {
     "name": "stdout",
     "output_type": "stream",
     "text": [
      "Found 7006 images belonging to 2 classes.\n",
      "Found 1999 images belonging to 2 classes.\n",
      "Found 1001 images belonging to 2 classes.\n",
      "63/63 [==============================] - 112s 2s/step - loss: 8.9655 - accuracy: 0.4752\n",
      "Validation accuracy: 47.52%\n"
     ]
    }
   ],
   "source": [
    "# Verify that the model has been loaded correctly\n",
    "loss_ef, accuracy_ef = ef_model.evaluate(data_gen(ef_model.input_shape[1])['validation_generator'])\n",
    "print(f'Validation accuracy: {accuracy_ef*100:.2f}%')\n"
   ]
  },
  {
   "cell_type": "code",
   "execution_count": 21,
   "id": "15a2ccbd",
   "metadata": {},
   "outputs": [],
   "source": [
    "data={'Model':['CNN','ResNet50','InceptionNet','EfficientNet'],\n",
    "      'Loss':[loss_cnn,loss_res,loss_in,loss_ef],\n",
    "     'Accuracy':[accuracy_cnn,accuracy_res,accuracy_in,accuracy_ef]}"
   ]
  },
  {
   "cell_type": "code",
   "execution_count": 22,
   "id": "eab464cf",
   "metadata": {},
   "outputs": [],
   "source": [
    "results=pd.DataFrame(data)"
   ]
  },
  {
   "cell_type": "code",
   "execution_count": 23,
   "id": "2ab6b5b2",
   "metadata": {},
   "outputs": [
    {
     "data": {
      "text/html": [
       "<div>\n",
       "<style scoped>\n",
       "    .dataframe tbody tr th:only-of-type {\n",
       "        vertical-align: middle;\n",
       "    }\n",
       "\n",
       "    .dataframe tbody tr th {\n",
       "        vertical-align: top;\n",
       "    }\n",
       "\n",
       "    .dataframe thead th {\n",
       "        text-align: right;\n",
       "    }\n",
       "</style>\n",
       "<table border=\"1\" class=\"dataframe\">\n",
       "  <thead>\n",
       "    <tr style=\"text-align: right;\">\n",
       "      <th></th>\n",
       "      <th>Model</th>\n",
       "      <th>Loss</th>\n",
       "      <th>Accuracy</th>\n",
       "    </tr>\n",
       "  </thead>\n",
       "  <tbody>\n",
       "    <tr>\n",
       "      <th>0</th>\n",
       "      <td>CNN</td>\n",
       "      <td>0.010448</td>\n",
       "      <td>0.995498</td>\n",
       "    </tr>\n",
       "    <tr>\n",
       "      <th>1</th>\n",
       "      <td>ResNet50</td>\n",
       "      <td>0.121105</td>\n",
       "      <td>0.962981</td>\n",
       "    </tr>\n",
       "    <tr>\n",
       "      <th>2</th>\n",
       "      <td>InceptionNet</td>\n",
       "      <td>0.000931</td>\n",
       "      <td>0.999500</td>\n",
       "    </tr>\n",
       "    <tr>\n",
       "      <th>3</th>\n",
       "      <td>EfficientNet</td>\n",
       "      <td>8.965549</td>\n",
       "      <td>0.475238</td>\n",
       "    </tr>\n",
       "  </tbody>\n",
       "</table>\n",
       "</div>"
      ],
      "text/plain": [
       "          Model      Loss  Accuracy\n",
       "0           CNN  0.010448  0.995498\n",
       "1      ResNet50  0.121105  0.962981\n",
       "2  InceptionNet  0.000931  0.999500\n",
       "3  EfficientNet  8.965549  0.475238"
      ]
     },
     "execution_count": 23,
     "metadata": {},
     "output_type": "execute_result"
    }
   ],
   "source": [
    "results"
   ]
  },
  {
   "cell_type": "markdown",
   "id": "77b0e237",
   "metadata": {},
   "source": [
    "Among all the models we got more accuracy for InceptionNet so we are going to build our model using InceptionNet in Deployment"
   ]
  },
  {
   "cell_type": "code",
   "execution_count": null,
   "id": "435e31f5",
   "metadata": {},
   "outputs": [],
   "source": []
  }
 ],
 "metadata": {
  "kernelspec": {
   "display_name": "Python 3 (ipykernel)",
   "language": "python",
   "name": "python3"
  },
  "language_info": {
   "codemirror_mode": {
    "name": "ipython",
    "version": 3
   },
   "file_extension": ".py",
   "mimetype": "text/x-python",
   "name": "python",
   "nbconvert_exporter": "python",
   "pygments_lexer": "ipython3",
   "version": "3.10.9"
  }
 },
 "nbformat": 4,
 "nbformat_minor": 5
}
